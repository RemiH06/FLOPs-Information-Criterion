{
 "cells": [
  {
   "cell_type": "code",
   "execution_count": null,
   "id": "fae70be6",
   "metadata": {},
   "outputs": [],
   "source": [
    "from sklearn.datasets import make_regression\n",
    "from sklearn.linear_model import LinearRegression\n",
    "from flopscope import estimate_sklearn_fit, estimate_sklearn_predict, matmul_flops"
   ]
  },
  {
   "cell_type": "code",
   "execution_count": null,
   "id": "e29c366d",
   "metadata": {},
   "outputs": [],
   "source": [
    "def main():\n",
    "    X, y = make_regression(n_samples=5000, n_features=40, random_state=0)\n",
    "    m = LinearRegression()\n",
    "    fit_flops = estimate_sklearn_fit(m, X, y)\n",
    "    m.fit(X, y)\n",
    "    pred_flops = estimate_sklearn_predict(m, X)\n",
    "    print({\"fit_flops\": fit_flops, \"predict_flops\": pred_flops, \"total\": fit_flops + pred_flops})\n",
    "    print({\"gemm_flops\": matmul_flops(2000, 1000, 256)})\n"
   ]
  },
  {
   "cell_type": "code",
   "execution_count": null,
   "id": "0db0be98",
   "metadata": {},
   "outputs": [],
   "source": [
    "main()"
   ]
  },
  {
   "cell_type": "code",
   "execution_count": null,
   "id": "d8d7bf18",
   "metadata": {},
   "outputs": [],
   "source": [
    "from blas_probe import count_blas_flops, last_blas_flops\n",
    "import numpy as np\n",
    "from sklearn.linear_model import LinearRegression\n",
    "\n",
    "with count_blas_flops():\n",
    "    # cualquier cosa que llame a MKL/OpenBLAS:\n",
    "    X = np.random.randn(5000, 40)\n",
    "    y = np.random.randn(5000)\n",
    "    m = LinearRegression().fit(X, y)\n",
    "    _ = m.predict(X)\n",
    "\n",
    "print(\"BLAS FLOPs (aprox):\", last_blas_flops())\n"
   ]
  }
 ],
 "metadata": {
  "kernelspec": {
   "display_name": "base",
   "language": "python",
   "name": "python3"
  },
  "language_info": {
   "name": "python",
   "version": "3.12.4"
  }
 },
 "nbformat": 4,
 "nbformat_minor": 5
}
