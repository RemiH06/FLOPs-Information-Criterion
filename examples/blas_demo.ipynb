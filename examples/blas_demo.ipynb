{
 "cells": [
  {
   "cell_type": "code",
   "execution_count": null,
   "id": "ad9a353a",
   "metadata": {},
   "outputs": [],
   "source": [
    "import numpy as np\n",
    "from sklearn.linear_model import LinearRegression\n",
    "from flopscope import count_blas_flops, last_blas_flops, last_blas_result"
   ]
  },
  {
   "cell_type": "code",
   "execution_count": null,
   "id": "e62a6ff4",
   "metadata": {},
   "outputs": [],
   "source": [
    "def main():\n",
    "    X = np.random.randn(5000, 40)\n",
    "    y = np.random.randn(5000)\n",
    "\n",
    "    with count_blas_flops():  # <<--- intercepta MKL/OpenBLAS\n",
    "        m = LinearRegression().fit(X, y)\n",
    "        _ = m.predict(X)\n",
    "\n",
    "    print(\"BLAS FLOPs (aprox):\", last_blas_flops())\n",
    "    res = last_blas_result()\n",
    "    print(\"Total:\", res.total, \"| log lines capturadas:\", len(res.lines))\n",
    "    # Si quieres ver líneas:\n",
    "    # for l in res.lines: print(l.strip())"
   ]
  },
  {
   "cell_type": "code",
   "execution_count": null,
   "id": "9742be43",
   "metadata": {},
   "outputs": [],
   "source": [
    "main()"
   ]
  }
 ],
 "metadata": {
  "language_info": {
   "name": "python"
  }
 },
 "nbformat": 4,
 "nbformat_minor": 5
}
