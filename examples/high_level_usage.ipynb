{
 "cells": [
  {
   "cell_type": "markdown",
   "id": "699376f7",
   "metadata": {},
   "source": [
    "### Este es un notebook donde doy ejemplos de uso de las distintas funciones de mi librería flop_counter y sus interacciones con distintas librerías utilizadas en la ciencia de datos, de momento soporta NumPy, PyTorch y TensorFlow.\n",
    "\n",
    "### Además, incluyo la fórmula que implementé para un análisis más similar al que hacen el AIC o el BIC"
   ]
  },
  {
   "cell_type": "markdown",
   "id": "88cda14c",
   "metadata": {},
   "source": [
    "# $\\color{#dda}{\\text{0. Libs import}}$\n",
    "\n",
    "Para la fecha en la que hago este jupyter no he hecho un paquete instalable universalmente así que se debe especificar el contexto de dónde está la librería de flop_counter."
   ]
  },
  {
   "cell_type": "code",
   "execution_count": 1,
   "id": "c17aceec",
   "metadata": {},
   "outputs": [],
   "source": [
    "import sys\n",
    "import os\n",
    "\n",
    "project_path = r'C:\\Users\\hecto\\OneDrive\\Escritorio\\Personal\\iroFactory\\31.FLOPs-Information-Criterion'\n",
    "if project_path not in sys.path:\n",
    "    sys.path.insert(0, project_path)\n",
    "\n",
    "# Fix OpenMP\n",
    "os.environ['KMP_DUPLICATE_LIB_OK'] = 'TRUE'\n",
    "\n",
    "import numpy as np\n",
    "import flop_counter"
   ]
  },
  {
   "cell_type": "markdown",
   "id": "02b8021c",
   "metadata": {},
   "source": [
    "# $\\color{#dda}{\\text{1. NumPy (simple)}}$\n",
    "\n",
    "Función para NumPy con un modelo simple"
   ]
  },
  {
   "cell_type": "code",
   "execution_count": 2,
   "id": "054bae3a",
   "metadata": {},
   "outputs": [],
   "source": [
    "def simple_numpy_model(x):\n",
    "    \"\"\"Modelo simple con NumPy\"\"\"\n",
    "    W1 = np.random.randn(100, 50)\n",
    "    W2 = np.random.randn(50, 10)\n",
    "    \n",
    "    h = np.matmul(x, W1)\n",
    "    output = np.matmul(h, W2)\n",
    "    return output"
   ]
  },
  {
   "cell_type": "code",
   "execution_count": 3,
   "id": "e293d5ed",
   "metadata": {},
   "outputs": [
    {
     "name": "stdout",
     "output_type": "stream",
     "text": [
      "\n",
      "======================================================================\n",
      "MODEL PROFILING SUMMARY\n",
      "======================================================================\n",
      "\n",
      "Model Information:\n",
      "  Framework:     NUMPY\n",
      "  Model Type:    function\n",
      "  Model Name:    simple_numpy_model\n",
      "\n",
      "Computational Complexity:\n",
      "  Total FLOPs:   352,000\n",
      "                 352.00 KFLOPs\n",
      "  Execution Time: 4605.40 ms\n",
      "  Throughput:     0.00 GFLOPS/s\n",
      "\n",
      "Operation Breakdown (Top 10):\n",
      "  Operation            Count    FLOPs           %       \n",
      "  ------------------------------------------------------------\n",
      "  matmul               2        352,000          100.0%\n",
      "\n",
      "======================================================================\n",
      "\n",
      "\n",
      "Resultado retornado:\n",
      "  Total FLOPs: 352,000\n",
      "  Tiempo: 4605.40 ms\n"
     ]
    }
   ],
   "source": [
    "x = np.random.randn(32, 100)\n",
    "\n",
    "result = flop_counter.count_model_flops(\n",
    "    model=simple_numpy_model,\n",
    "    input_data=x,\n",
    "    framework='numpy',\n",
    "    verbose=True\n",
    ")\n",
    "\n",
    "print(f\"\\nResultado retornado:\")\n",
    "print(f\"  Total FLOPs: {result['total_flops']:,}\")\n",
    "print(f\"  Tiempo: {result['execution_time_ms']:.2f} ms\")"
   ]
  },
  {
   "cell_type": "markdown",
   "id": "fd0a34ef",
   "metadata": {},
   "source": [
    "# $\\color{#dda}{\\text{2. PyTorch (simple)}}$\n",
    "\n",
    "Función para PyTorch con una red neuronal simple"
   ]
  },
  {
   "cell_type": "code",
   "execution_count": null,
   "id": "03fd57b6",
   "metadata": {},
   "outputs": [],
   "source": [
    "import torch\n",
    "import torch.nn as nn\n",
    "\n",
    "class SimpleNet(nn.Module):\n",
    "    def __init__(self):\n",
    "        super().__init__()\n",
    "        self.fc1 = nn.Linear(784, 256)\n",
    "        self.fc2 = nn.Linear(256, 128)\n",
    "        self.fc3 = nn.Linear(128, 10)\n",
    "    \n",
    "    def forward(self, x):\n",
    "        x = torch.relu(self.fc1(x))\n",
    "        x = torch.relu(self.fc2(x))\n",
    "        x = self.fc3(x)\n",
    "        return x"
   ]
  },
  {
   "cell_type": "code",
   "execution_count": 5,
   "id": "9b23c23f",
   "metadata": {},
   "outputs": [
    {
     "name": "stdout",
     "output_type": "stream",
     "text": [
      "\n",
      "======================================================================\n",
      "MODEL PROFILING SUMMARY\n",
      "======================================================================\n",
      "\n",
      "Model Information:\n",
      "  Framework:     TORCH\n",
      "  Model Type:    SimpleNet\n",
      "  Model Name:    SimpleNet\n",
      "  Parameters:    235,146\n",
      "  Trainable:     235,146\n",
      "\n",
      "Computational Complexity:\n",
      "  Total FLOPs:   44,580,864\n",
      "                 44.58 MFLOPs\n",
      "  Execution Time: 34.76 ms\n",
      "  Throughput:     1.28 GFLOPS/s\n",
      "\n",
      "Operation Breakdown (Top 10):\n",
      "  Operation            Count    FLOPs           %       \n",
      "  ------------------------------------------------------------\n",
      "  F.linear             3        44,580,864       100.0%\n",
      "\n",
      "======================================================================\n",
      "\n",
      "\n",
      "Detalles del resultado:\n",
      "  Framework detectado: torch\n",
      "  Parámetros del modelo: 235,146\n"
     ]
    }
   ],
   "source": [
    "model = SimpleNet()\n",
    "x = torch.randn(32, 784)\n",
    "\n",
    "result = flop_counter.count_model_flops(\n",
    "    model=model,\n",
    "    input_data=x,\n",
    "    verbose=True\n",
    ")\n",
    "\n",
    "print(f\"\\nDetalles del resultado:\")\n",
    "print(f\"  Framework detectado: {result['framework']}\")\n",
    "print(f\"  Parámetros del modelo: {result['model_info'].get('total_parameters', 'N/A'):,}\")"
   ]
  },
  {
   "cell_type": "markdown",
   "id": "69288545",
   "metadata": {},
   "source": [
    "# $\\color{#dda}{\\text{3. Comparación entre modelos}}$\n",
    "\n",
    "Comparamos distintos tamaños de modelos (operaciones de matrices en este caso) con compare_models(), que recibe un diccionario de str y tupla, donde la tupla es el modelo y un ndarray random."
   ]
  },
  {
   "cell_type": "code",
   "execution_count": null,
   "id": "8a61cd8a",
   "metadata": {},
   "outputs": [],
   "source": [
    "def model_small(x):\n",
    "    \"\"\"Modelo pequeño\"\"\"\n",
    "    W = np.random.randn(100, 10)\n",
    "    return np.matmul(x, W)\n",
    "\n",
    "def model_medium(x):\n",
    "    \"\"\"Modelo mediano\"\"\"\n",
    "    W1 = np.random.randn(100, 50)\n",
    "    W2 = np.random.randn(50, 10)\n",
    "    h = np.matmul(x, W1)\n",
    "    return np.matmul(h, W2)\n",
    "\n",
    "def model_large(x):\n",
    "    \"\"\"Modelo grande\"\"\"\n",
    "    W1 = np.random.randn(100, 200)\n",
    "    W2 = np.random.randn(200, 100)\n",
    "    W3 = np.random.randn(100, 10)\n",
    "    h1 = np.matmul(x, W1)\n",
    "    h2 = np.matmul(h1, W2)\n",
    "    return np.matmul(h2, W3)"
   ]
  },
  {
   "cell_type": "code",
   "execution_count": 7,
   "id": "3267f708",
   "metadata": {},
   "outputs": [
    {
     "name": "stdout",
     "output_type": "stream",
     "text": [
      "\n",
      "Profiling: Small\n",
      "--------------------------------------------------\n",
      "\n",
      "Profiling: Medium\n",
      "--------------------------------------------------\n",
      "\n",
      "Profiling: Large\n",
      "--------------------------------------------------\n",
      "\n",
      "======================================================================\n",
      "MODEL COMPARISON\n",
      "======================================================================\n",
      "\n",
      "Model                FLOPs           Time (ms)    GFLOPS/s    \n",
      "----------------------------------------------------------------------\n",
      "Small                64,000          0.81         0.08        \n",
      "Medium               352,000         3.43         0.10        \n",
      "Large                2,624,000       7.80         0.34        \n",
      "\n",
      "Most Efficient: Small (64,000 FLOPs)\n",
      "\n",
      "Efficiency Ratios (vs Small):\n",
      "  Medium: 5.50x more FLOPs\n",
      "  Large: 41.00x more FLOPs\n",
      "\n",
      "======================================================================\n",
      "\n"
     ]
    }
   ],
   "source": [
    "x = np.random.randn(32, 100)\n",
    "\n",
    "models = {\n",
    "    'Small': (model_small, x),\n",
    "    'Medium': (model_medium, x),\n",
    "    'Large': (model_large, x)\n",
    "}\n",
    "\n",
    "results = flop_counter.compare_models(models, framework='numpy', verbose=True)"
   ]
  },
  {
   "cell_type": "markdown",
   "id": "d27672ad",
   "metadata": {},
   "source": [
    "# $\\color{#dda}{\\text{4. Sin verbose, solo FLOPs}}$\n",
    "\n",
    "Hasta este punto todo el texto que manda es verbose, para obtener solo los FLOPs se puede marcar ```verbose=False``` en count_model_flops()"
   ]
  },
  {
   "cell_type": "code",
   "execution_count": null,
   "id": "c5a851f0",
   "metadata": {},
   "outputs": [],
   "source": [
    "def my_model(x):\n",
    "    W = np.random.randn(50, 25)\n",
    "    return np.matmul(x, W)"
   ]
  },
  {
   "cell_type": "code",
   "execution_count": 9,
   "id": "dd4bfba2",
   "metadata": {},
   "outputs": [
    {
     "name": "stdout",
     "output_type": "stream",
     "text": [
      "FLOPs calculados: 40,000\n"
     ]
    }
   ],
   "source": [
    "x = np.random.randn(16, 50)\n",
    "\n",
    "# Obtener solo el número de FLOPs\n",
    "flops = flop_counter.count_model_flops(\n",
    "    model=my_model,\n",
    "    input_data=x,\n",
    "    verbose=False,\n",
    "    return_details=False\n",
    ")\n",
    "\n",
    "print(f\"FLOPs calculados: {flops:,}\")"
   ]
  },
  {
   "cell_type": "markdown",
   "id": "6d29660d",
   "metadata": {},
   "source": [
    "# $\\color{#dda}{\\text{5. PyTorch (complejo)}}$\n",
    "\n",
    "Count para una CNN que procesa imágenes de 32x32 (RGB)"
   ]
  },
  {
   "cell_type": "code",
   "execution_count": 40,
   "id": "8435a54a",
   "metadata": {},
   "outputs": [],
   "source": [
    "import torch\n",
    "import torch.nn as nn\n",
    "import matplotlib.pyplot as plt\n",
    "\n",
    "class SimpleCNN(nn.Module):\n",
    "    def __init__(self):\n",
    "        super().__init__()\n",
    "        self.conv1 = nn.Conv2d(3, 16, kernel_size=3, padding=1)\n",
    "        self.conv2 = nn.Conv2d(16, 32, kernel_size=3, padding=1)\n",
    "        self.fc = nn.Linear(32 * 8 * 8, 10)\n",
    "    \n",
    "    def forward(self, x):\n",
    "        x = torch.relu(self.conv1(x))\n",
    "        x = torch.max_pool2d(x, 2)\n",
    "        x = torch.relu(self.conv2(x))\n",
    "        x = torch.max_pool2d(x, 2)\n",
    "        x = x.view(x.size(0), -1)\n",
    "        x = self.fc(x)\n",
    "        return x"
   ]
  },
  {
   "cell_type": "code",
   "execution_count": 41,
   "id": "848b2a9e",
   "metadata": {},
   "outputs": [],
   "source": [
    "x = torch.randn(1, 3, 32, 32)  # Imagen 32x32 RGB\n",
    "img = x[0].permute(1, 2, 0).detach().cpu().numpy()\n",
    "\n",
    "# Normalizar valores a [0,1] para visualización\n",
    "img = (img - img.min()) / (img.max() - img.min() + 1e-8)"
   ]
  },
  {
   "cell_type": "code",
   "execution_count": 42,
   "id": "d6b35605",
   "metadata": {},
   "outputs": [
    {
     "data": {
      "image/png": "[encoded data removed]",
      "text/plain": [
       "<Figure size 640x480 with 1 Axes>"
      ]
     },
     "metadata": {},
     "output_type": "display_data"
    }
   ],
   "source": [
    "plt.imshow(img)\n",
    "plt.axis('off')\n",
    "plt.show()"
   ]
  },
  {
   "cell_type": "code",
   "execution_count": 43,
   "id": "f6057e28",
   "metadata": {},
   "outputs": [
    {
     "name": "stdout",
     "output_type": "stream",
     "text": [
      "\n",
      "======================================================================\n",
      "MODEL PROFILING SUMMARY\n",
      "======================================================================\n",
      "\n",
      "Model Information:\n",
      "  Framework:     TORCH\n",
      "  Model Type:    SimpleCNN\n",
      "  Model Name:    SimpleCNN\n",
      "  Parameters:    25,578\n",
      "  Trainable:     25,578\n",
      "\n",
      "Computational Complexity:\n",
      "  Total FLOPs:   11,632,640\n",
      "                 11.63 MFLOPs\n",
      "  Execution Time: 6.03 ms\n",
      "  Throughput:     1.93 GFLOPS/s\n",
      "\n",
      "Operation Breakdown (Top 10):\n",
      "  Operation            Count    FLOPs           %       \n",
      "  ------------------------------------------------------------\n",
      "  F.linear             1        8,388,608         72.1%\n",
      "  F.conv2d             2        3,244,032         27.9%\n",
      "\n",
      "======================================================================\n",
      "\n"
     ]
    }
   ],
   "source": [
    "model = SimpleCNN()\n",
    "\n",
    "result = flop_counter.count_model_flops(\n",
    "    model=model,\n",
    "    input_data=x,\n",
    "    verbose=True\n",
    ")"
   ]
  },
  {
   "cell_type": "markdown",
   "id": "921de745",
   "metadata": {},
   "source": [
    "# $\\color{#dda}{\\text{6. Análisis de eficiencia}}$\n",
    "\n",
    "Determinamos eficiencia a partir de tiempo de ejecución. Creo que no le daré mucha importancia al tiempo ni a la memoria porque depende de muchos factores, entre ellos, especificaciones de hardware. Lo coloco igual para que se vea que es posible."
   ]
  },
  {
   "cell_type": "code",
   "execution_count": null,
   "id": "da3126fe",
   "metadata": {},
   "outputs": [],
   "source": [
    "def analyze_efficiency(model_fn, input_data, model_name):\n",
    "    \"\"\"Analiza la eficiencia de un modelo.\"\"\"\n",
    "    result = flop_counter.count_model_flops(\n",
    "        model=model_fn,\n",
    "        input_data=input_data,\n",
    "        verbose=False,\n",
    "        return_details=True\n",
    "    )\n",
    "    \n",
    "    flops = result['total_flops']\n",
    "    time_ms = result['execution_time_ms']\n",
    "    \n",
    "    # Calcular métricas\n",
    "    throughput = (flops / (time_ms / 1000)) / 1e9  # GFLOPS/s\n",
    "    \n",
    "    # Obtener tamaño de salida\n",
    "    output_shape = result.get('output_shape', None)\n",
    "    \n",
    "    print(f\"\\n{model_name}:\")\n",
    "    print(f\"  FLOPs:      {flops:,}\")\n",
    "    print(f\"  Time:       {time_ms:.2f} ms\")\n",
    "    print(f\"  Throughput: {throughput:.2f} GFLOPS/s\")\n",
    "    if output_shape:\n",
    "        print(f\"  Output:     {output_shape}\")\n",
    "    \n",
    "    return result"
   ]
  },
  {
   "cell_type": "code",
   "execution_count": 45,
   "id": "6fdfbcb5",
   "metadata": {},
   "outputs": [],
   "source": [
    "# Crear varios modelos de diferentes tamaños\n",
    "input_data = np.random.randn(32, 128)\n",
    "\n",
    "def tiny_model(x):\n",
    "    return np.matmul(x, np.random.randn(128, 10))\n",
    "\n",
    "def small_model(x):\n",
    "    h = np.matmul(x, np.random.randn(128, 64))\n",
    "    return np.matmul(h, np.random.randn(64, 10))\n",
    "\n",
    "def medium_model(x):\n",
    "    h1 = np.matmul(x, np.random.randn(128, 128))\n",
    "    h2 = np.matmul(h1, np.random.randn(128, 64))\n",
    "    return np.matmul(h2, np.random.randn(64, 10))"
   ]
  },
  {
   "cell_type": "code",
   "execution_count": 46,
   "id": "97098228",
   "metadata": {},
   "outputs": [
    {
     "name": "stdout",
     "output_type": "stream",
     "text": [
      "\n",
      "Tiny Model:\n",
      "  FLOPs:      81,920\n",
      "  Time:       1.16 ms\n",
      "  Throughput: 0.07 GFLOPS/s\n",
      "  Output:     (32, 10)\n",
      "\n",
      "Small Model:\n",
      "  FLOPs:      565,248\n",
      "  Time:       1.10 ms\n",
      "  Throughput: 0.51 GFLOPS/s\n",
      "  Output:     (32, 10)\n",
      "\n",
      "Medium Model:\n",
      "  FLOPs:      1,613,824\n",
      "  Time:       8.57 ms\n",
      "  Throughput: 0.19 GFLOPS/s\n",
      "  Output:     (32, 10)\n",
      "\n",
      "Model           FLOPs           Time (ms)    Efficiency     \n",
      "------------------------------------------------------------\n",
      "Tiny            81,920          1.16         70,743         \n",
      "Small           565,248         1.10         513,675        \n",
      "Medium          1,613,824       8.57         188,419        \n"
     ]
    }
   ],
   "source": [
    "results = {\n",
    "    'Tiny': analyze_efficiency(tiny_model, input_data, 'Tiny Model'),\n",
    "    'Small': analyze_efficiency(small_model, input_data, 'Small Model'),\n",
    "    'Medium': analyze_efficiency(medium_model, input_data, 'Medium Model')\n",
    "}\n",
    "\n",
    "# Comparar eficiencia\n",
    "print(f\"\\n{'Model':<15} {'FLOPs':<15} {'Time (ms)':<12} {'Efficiency':<15}\")\n",
    "print(\"-\" * 60)\n",
    "for name, result in results.items():\n",
    "    flops = result['total_flops']\n",
    "    time_ms = result['execution_time_ms']\n",
    "    efficiency = flops / time_ms if time_ms > 0 else 0\n",
    "    print(f\"{name:<15} {flops:<15,} {time_ms:<12.2f} {efficiency:<15,.0f}\")"
   ]
  },
  {
   "cell_type": "markdown",
   "id": "026c1ed4",
   "metadata": {},
   "source": [
    "# $\\color{#dda}{\\text{7. Detección automática de framework/lib}}$\n",
    "\n",
    "Solo un ejemplo de que si se deja ```framework='auto'``` puede detectar qué librería se está utilizando"
   ]
  },
  {
   "cell_type": "code",
   "execution_count": null,
   "id": "1d3590dc",
   "metadata": {},
   "outputs": [],
   "source": [
    "# NumPy\n",
    "def numpy_fn(x):\n",
    "    return np.matmul(x, np.random.randn(50, 10))"
   ]
  },
  {
   "cell_type": "code",
   "execution_count": 48,
   "id": "9f152b53",
   "metadata": {},
   "outputs": [
    {
     "name": "stdout",
     "output_type": "stream",
     "text": [
      "NumPy model - Framework detectado: numpy\n",
      "FLOPs: 32,000\n"
     ]
    }
   ],
   "source": [
    "x_np = np.random.randn(32, 50)\n",
    "\n",
    "result_np = flop_counter.count_model_flops(\n",
    "    model=numpy_fn,\n",
    "    input_data=x_np,\n",
    "    framework='auto',  # Detectar automáticamente\n",
    "    verbose=False\n",
    ")\n",
    "\n",
    "print(f\"NumPy model - Framework detectado: {result_np['framework']}\")\n",
    "print(f\"FLOPs: {result_np['total_flops']:,}\")"
   ]
  },
  {
   "cell_type": "code",
   "execution_count": 49,
   "id": "160366be",
   "metadata": {},
   "outputs": [],
   "source": [
    "import torch\n",
    "\n",
    "def torch_fn(x):\n",
    "    W = torch.randn(50, 10)\n",
    "    return torch.matmul(x, W)"
   ]
  },
  {
   "cell_type": "code",
   "execution_count": 50,
   "id": "c754aff3",
   "metadata": {},
   "outputs": [
    {
     "name": "stdout",
     "output_type": "stream",
     "text": [
      "\n",
      "PyTorch model - Framework detectado: torch\n",
      "FLOPs: 32,000\n"
     ]
    }
   ],
   "source": [
    "x_torch = torch.randn(32, 50)\n",
    "\n",
    "result_torch = flop_counter.count_model_flops(\n",
    "    model=torch_fn,\n",
    "    input_data=x_torch,\n",
    "    framework='auto',  # Detectar automáticamente\n",
    "    verbose=False\n",
    ")\n",
    "\n",
    "print(f\"\\nPyTorch model - Framework detectado: {result_torch['framework']}\")\n",
    "print(f\"FLOPs: {result_torch['total_flops']:,}\")"
   ]
  },
  {
   "cell_type": "markdown",
   "id": "5baf4907",
   "metadata": {},
   "source": [
    "# $\\color{#dda}{\\text{8. Operation Breakdown}}$\n",
    "\n",
    "En caso de que se quieran realizar optimizaciones o encontrar movimientos y demás, separa los tipos de operaciones encontrados en el contexto. Por lo general serán matmul para la mayoría de casos pero podría utilizarse más propiamente en modelos de predicción y series de tiempo."
   ]
  },
  {
   "cell_type": "code",
   "execution_count": null,
   "id": "caa44703",
   "metadata": {},
   "outputs": [],
   "source": [
    "def complex_model(x):\n",
    "    \"\"\"Modelo con múltiples tipos de operaciones.\"\"\"\n",
    "    # Capas fully connected\n",
    "    h1 = np.matmul(x, np.random.randn(100, 256))\n",
    "    h2 = np.matmul(h1, np.random.randn(256, 128))\n",
    "    h3 = np.matmul(h2, np.random.randn(128, 10))\n",
    "    \n",
    "    # Operaciones de reducción\n",
    "    mean_h3 = np.mean(h3)\n",
    "    std_h3 = np.std(h3)\n",
    "    sum_h3 = np.sum(h3)\n",
    "    \n",
    "    return h3"
   ]
  },
  {
   "cell_type": "code",
   "execution_count": null,
   "id": "8ca60e62",
   "metadata": {},
   "outputs": [
    {
     "name": "stdout",
     "output_type": "stream",
     "text": [
      "\n",
      "Breakdown por tipo de operación:\n",
      "Operación            FLOPs           % del Total \n",
      "--------------------------------------------------\n"
     ]
    }
   ],
   "source": [
    "x = np.random.randn(32, 100)\n",
    "\n",
    "result = flop_counter.count_model_flops(\n",
    "    model=complex_model,\n",
    "    input_data=x,\n",
    "    verbose=False,\n",
    "    return_details=True\n",
    ")"
   ]
  },
  {
   "cell_type": "code",
   "execution_count": null,
   "id": "7e5997d5",
   "metadata": {},
   "outputs": [
    {
     "name": "stdout",
     "output_type": "stream",
     "text": [
      "matmul               3,817,472            100.0%\n",
      "mean                 320                    0.0%\n",
      "std                  320                    0.0%\n",
      "sum                  320                    0.0%\n",
      "\n",
      "Total: 3,818,432 FLOPs\n"
     ]
    }
   ],
   "source": [
    "print(\"\\nBreakdown por tipo de operación:\")\n",
    "print(f\"{'Operación':<20} {'FLOPs':<15} {'% del Total':<12}\")\n",
    "print(\"-\" * 50)\n",
    "\n",
    "total = result['total_flops']\n",
    "for op_name, op_flops in sorted(result['flops_by_operation'].items(), \n",
    "                                key=lambda x: x[1], reverse=True):\n",
    "    percentage = (op_flops / total * 100) if total > 0 else 0\n",
    "    print(f\"{op_name:<20} {op_flops:<15,} {percentage:>10.1f}%\")\n",
    "\n",
    "print(f\"\\nTotal: {total:,} FLOPs\")"
   ]
  },
  {
   "cell_type": "markdown",
   "id": "4b4cccd1",
   "metadata": {},
   "source": [
    "# $\\color{#dda}{\\text{Conclusión y resumen}}$"
   ]
  },
  {
   "cell_type": "markdown",
   "id": "6104859e",
   "metadata": {},
   "source": [
    "## count_model_flops()\n",
    "\n",
    "La función **`count_model_flops()`** proporciona:\n",
    "\n",
    "- ✅ Detección automática de framework  \n",
    "- ✅ Conteo preciso de FLOPs  \n",
    "- ✅ Información detallada del modelo  \n",
    "- ✅ Medición de tiempo de ejecución  \n",
    "- ✅ Breakdown por operación  \n",
    "- ✅ Comparación fácil entre modelos  \n",
    "\n",
    "---\n",
    "\n",
    "### Uso básico\n",
    "\n",
    "```python\n",
    "result = flop_counter.count_model_flops(model, input_data)\n",
    "```\n",
    "\n",
    "### Más de un modelo\n",
    "```python\n",
    "results = flop_counter.compare_models({\n",
    "    'model1': (model1, input1),\n",
    "    'model2': (model2, input2)\n",
    "})\n",
    "```\n",
    "\n",
    "## ¡EUREKA!\n",
    "\n",
    "### Ya con todo lo de este notebook es posible crear una fórmula estadística más robusta para determinar el FIC (FLOP Information Criterion)"
   ]
  }
 ],
 "metadata": {
  "kernelspec": {
   "display_name": "base",
   "language": "python",
   "name": "python3"
  },
  "language_info": {
   "codemirror_mode": {
    "name": "ipython",
    "version": 3
   },
   "file_extension": ".py",
   "mimetype": "text/x-python",
   "name": "python",
   "nbconvert_exporter": "python",
   "pygments_lexer": "ipython3",
   "version": "3.12.4"
  }
 },
 "nbformat": 4,
 "nbformat_minor": 5
}
