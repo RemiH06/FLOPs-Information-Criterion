{
 "cells": [
  {
   "cell_type": "markdown",
   "id": "cfb55196",
   "metadata": {},
   "source": [
    "**Idea para “criterio de información con FLOPs”**\n",
    "\n",
    "$$\n",
    "IC_{\\text{FLOP}} = -2 \\ln(\\hat{L}) + \\alpha k + \\beta \\cdot \\log(\\text{FLOPs})\n",
    "$$\n",
    "\n",
    "- \\(\\alpha\\): penalización clásica por parámetros.  \n",
    "- \\(\\beta\\): peso dado al costo computacional.  \n",
    "- \\(\\log(\\text{FLOPs})\\): se usa logaritmo para que el efecto no sea desproporcionado.\n",
    "\n",
    "Esto alinearía la selección de modelo no solo con *qué tan bien explica los datos*, sino también con su **eficiencia computacional**.\n"
   ]
  },
  {
   "cell_type": "markdown",
   "id": "3e35210b",
   "metadata": {},
   "source": [
    "$$\n",
    "IC_{\\text{FLOP}} \\;=\\; -2 \\ln(\\hat{L}) \\;+\\; \\alpha k \\;+\\; \\beta \\cdot \\log(\\text{FLOPs})\n",
    "$$\n"
   ]
  }
 ],
 "metadata": {
  "language_info": {
   "name": "python"
  }
 },
 "nbformat": 4,
 "nbformat_minor": 5
}
